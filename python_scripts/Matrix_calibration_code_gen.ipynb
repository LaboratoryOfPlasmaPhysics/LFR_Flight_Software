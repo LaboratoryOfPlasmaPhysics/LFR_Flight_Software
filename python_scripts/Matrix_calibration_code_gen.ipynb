{
 "cells": [
  {
   "cell_type": "code",
   "execution_count": 1,
   "metadata": {},
   "outputs": [],
   "source": [
    "import numpy as np\n",
    "from sympy import Matrix, Symbol\n",
    "import sympy\n",
    "\n",
    "        \n",
    "class CplxMatrix:\n",
    "    def __init__(self,name, lines, columns):\n",
    "        self.name = name\n",
    "        self.lines = lines\n",
    "        self.columns = columns\n",
    "    \n",
    "    def flat_index(self,line,column):\n",
    "        assert line < self.lines\n",
    "        assert column < self.columns\n",
    "        index = 2*(column + line*self.columns)\n",
    "        return index\n",
    "    \n",
    "    def ccode_item_re(self, line,column):\n",
    "        return f\"{self.name}[{self.flat_index(line, column)}]\"\n",
    "    \n",
    "    def ccode_item_im(self, line,column):\n",
    "        index = self.flat_index(line, column)+1\n",
    "        return f\"{self.name}[{index}]\"\n",
    "        \n",
    "        \n",
    "class RealMatrix:\n",
    "    def __init__(self,name,lines, columns):\n",
    "        self.name = name\n",
    "        self.lines = lines\n",
    "        self.columns = columns\n",
    "    \n",
    "    def flat_index(self,line,column):\n",
    "        assert line < self.lines\n",
    "        assert column < self.columns\n",
    "        index = 2*(column + line*self.columns)\n",
    "        return index\n",
    "    \n",
    "    def ccode_item_re(self, line,column):\n",
    "        return f\"{self.name}[{self.flat_index(line, column)}]\"\n",
    "    \n",
    "    def ccode_item_im(self, line,column):\n",
    "        return f\"0\"\n",
    "    \n",
    "\n",
    "class CplxTriangularMatrix:\n",
    "    def __init__(self,name,lines, columns):\n",
    "        self.name = name\n",
    "        self.lines = lines\n",
    "        self.columns = columns\n",
    "    \n",
    "    def flat_index(self,line,column):\n",
    "        if line > column:\n",
    "            return self.flat_index(column, line)\n",
    "        else:\n",
    "            index = (2*(column + line*self.columns)) - 2*int(((line+.5)**2)/2) - line -(1 * column>line)\n",
    "            return index\n",
    "    \n",
    "    def ccode_item_re(self, line,column):\n",
    "        return f\"{self.name}[{self.flat_index(line, column)}]\"\n",
    "    \n",
    "    def ccode_item_im(self, line,column):\n",
    "        index = self.flat_index(line, column)+1\n",
    "        if line > column:\n",
    "            return f\"(-{self.name}[{index}])\"\n",
    "        elif line < column:\n",
    "            return f\"{self.name}[{index}]\"\n",
    "        return f\"0\"\n",
    "\n",
    "\n",
    "class ASM_HW_order_CplxTriangularMatrix:\n",
    "    def __init__(self,name,lines, columns, frequencies):\n",
    "        self.name = name\n",
    "        self.lines = lines\n",
    "        self.columns = columns\n",
    "        self.frequencies = frequencies\n",
    "    \n",
    "    def flat_index(self,line,column):\n",
    "        if line > column:\n",
    "            return self.flat_index(column, line)\n",
    "        else:\n",
    "            index = (2*(column + line*self.columns)) - 2*int(((line+.5)**2)/2) - line -(1 * column>line)\n",
    "            return index * self.frequencies\n",
    "    \n",
    "    def ccode_item_re(self, line,column):\n",
    "        return f\"{self.name}[{self.flat_index(line, column)}]\"\n",
    "    \n",
    "    def ccode_item_im(self, line,column):\n",
    "        index = self.flat_index(line, column)+1\n",
    "        if line > column:\n",
    "            return f\"(-{self.name}[{index}])\"\n",
    "        elif line < column:\n",
    "            return f\"{self.name}[{index}]\"\n",
    "        return f\"0\"\n",
    "\n",
    "\n",
    "class ASM_SW_order_CplxTriangularMatrix:\n",
    "    def __init__(self,name,lines, columns, frequencies):\n",
    "        self.name = name\n",
    "        self.lines = lines\n",
    "        self.columns = columns\n",
    "    \n",
    "    def flat_index(self,line,column):\n",
    "        if line > column:\n",
    "            return self.flat_index(column, line)\n",
    "        else:\n",
    "            index = (2*(column + line*self.columns)) - 2*int(((line+.5)**2)/2) - line -(1 * column>line)\n",
    "            return index\n",
    "    \n",
    "    def ccode_item_re(self, line,column):\n",
    "        return f\"{self.name}[{self.flat_index(line, column)}]\"\n",
    "    \n",
    "    def ccode_item_im(self, line,column):\n",
    "        index = self.flat_index(line, column)+1\n",
    "        if line > column:\n",
    "            return f\"(-{self.name}[{index}])\"\n",
    "        elif line < column:\n",
    "            return f\"{self.name}[{index}]\"\n",
    "        return f\"0\""
   ]
  },
  {
   "cell_type": "code",
   "execution_count": 2,
   "metadata": {},
   "outputs": [
    {
     "data": {
      "text/latex": [
       "$\\displaystyle \\left[\\begin{matrix}B_{1} \\overline{B_{1}} & B_{1} \\overline{B_{2}} & B_{1} \\overline{B_{3}} & B_{1} \\overline{E_{1}} & B_{1} \\overline{E_{2}}\\\\B_{2} \\overline{B_{1}} & B_{2} \\overline{B_{2}} & B_{2} \\overline{B_{3}} & B_{2} \\overline{E_{1}} & B_{2} \\overline{E_{2}}\\\\B_{3} \\overline{B_{1}} & B_{3} \\overline{B_{2}} & B_{3} \\overline{B_{3}} & B_{3} \\overline{E_{1}} & B_{3} \\overline{E_{2}}\\\\E_{1} \\overline{B_{1}} & E_{1} \\overline{B_{2}} & E_{1} \\overline{B_{3}} & E_{1} \\overline{E_{1}} & E_{1} \\overline{E_{2}}\\\\E_{2} \\overline{B_{1}} & E_{2} \\overline{B_{2}} & E_{2} \\overline{B_{3}} & E_{2} \\overline{E_{1}} & E_{2} \\overline{E_{2}}\\end{matrix}\\right]$"
      ],
      "text/plain": [
       "Matrix([\n",
       "[B1*conjugate(B1), B1*conjugate(B2), B1*conjugate(B3), B1*conjugate(E1), B1*conjugate(E2)],\n",
       "[B2*conjugate(B1), B2*conjugate(B2), B2*conjugate(B3), B2*conjugate(E1), B2*conjugate(E2)],\n",
       "[B3*conjugate(B1), B3*conjugate(B2), B3*conjugate(B3), B3*conjugate(E1), B3*conjugate(E2)],\n",
       "[E1*conjugate(B1), E1*conjugate(B2), E1*conjugate(B3), E1*conjugate(E1), E1*conjugate(E2)],\n",
       "[E2*conjugate(B1), E2*conjugate(B2), E2*conjugate(B3), E2*conjugate(E1), E2*conjugate(E2)]])"
      ]
     },
     "execution_count": 2,
     "metadata": {},
     "output_type": "execute_result"
    }
   ],
   "source": [
    "from sympy import Matrix, Symbol\n",
    "B1 = Symbol(\"B1\", complex=True, commutative = True)\n",
    "B2 = Symbol(\"B2\", complex=True, commutative = True)\n",
    "B3 = Symbol(\"B3\", complex=True, commutative = True)\n",
    "E1 = Symbol(\"E1\", complex=True, commutative = True)\n",
    "E2 = Symbol(\"E2\", complex=True, commutative = True)\n",
    "\n",
    "B = Matrix([B1, B2, B3, E1, E2])\n",
    "\n",
    "M = B * B.conjugate().transpose()\n",
    "M"
   ]
  },
  {
   "cell_type": "code",
   "execution_count": 3,
   "metadata": {},
   "outputs": [
    {
     "data": {
      "text/latex": [
       "$\\displaystyle \\left[\\begin{matrix}B1B1' & B1B2' & B1B3' & B1E1' & B1E2'\\\\B2B1' & B2B2' & B2B3' & B2E1' & B2E2'\\\\B3B1' & B3B2' & B3B3' & B3E1' & B3E2'\\\\E1B1' & E1B2' & E1B3' & E1E1' & E1E2'\\\\E2B1' & E2B2' & E2B3' & E2E1' & E2E2'\\end{matrix}\\right]$"
      ],
      "text/plain": [
       "Matrix([\n",
       "[B1B1', B1B2', B1B3', B1E1', B1E2'],\n",
       "[B2B1', B2B2', B2B3', B2E1', B2E2'],\n",
       "[B3B1', B3B2', B3B3', B3E1', B3E2'],\n",
       "[E1B1', E1B2', E1B3', E1E1', E1E2'],\n",
       "[E2B1', E2B2', E2B3', E2E1', E2E2']])"
      ]
     },
     "execution_count": 3,
     "metadata": {},
     "output_type": "execute_result"
    }
   ],
   "source": [
    "from sympy import Matrix, Symbol\n",
    "B1B1 = Symbol(\"B1B1'\", real=True, commutative = True)\n",
    "B1B2 = Symbol(\"B1B2'\", complex=True, commutative = True)\n",
    "B1B3 = Symbol(\"B1B3'\", complex=True, commutative = True)\n",
    "B1E1 = Symbol(\"B1E1'\", complex=True, commutative = True)\n",
    "B1E2 = Symbol(\"B1E2'\", complex=True, commutative = True)\n",
    "\n",
    "B2B1 = Symbol(\"B2B1'\", complex=True, commutative = True)\n",
    "B2B2 = Symbol(\"B2B2'\", real=True, commutative = True)\n",
    "B2B3 = Symbol(\"B2B3'\", complex=True, commutative = True)\n",
    "B2E1 = Symbol(\"B2E1'\", complex=True, commutative = True)\n",
    "B2E2 = Symbol(\"B2E2'\", complex=True, commutative = True)\n",
    "\n",
    "B3B1 = Symbol(\"B3B1'\", complex=True, commutative = True)\n",
    "B3B2 = Symbol(\"B3B2'\", complex=True, commutative = True)\n",
    "B3B3 = Symbol(\"B3B3'\", real=True, commutative = True)\n",
    "B3E1 = Symbol(\"B3E1'\", complex=True, commutative = True)\n",
    "B3E2 = Symbol(\"B3E2'\", complex=True, commutative = True)\n",
    "\n",
    "E1B1 = Symbol(\"E1B1'\", complex=True, commutative = True)\n",
    "E1B2 = Symbol(\"E1B2'\", complex=True, commutative = True)\n",
    "E1B3 = Symbol(\"E1B3'\", complex=True, commutative = True)\n",
    "E1E1 = Symbol(\"E1E1'\", real=True, commutative = True)\n",
    "E1E2 = Symbol(\"E1E2'\", complex=True, commutative = True)\n",
    "\n",
    "E2B1 = Symbol(\"E2B1'\", complex=True, commutative = True)\n",
    "E2B2 = Symbol(\"E2B2'\", complex=True, commutative = True)\n",
    "E2B3 = Symbol(\"E2B3'\", complex=True, commutative = True)\n",
    "E2E1 = Symbol(\"E2E1'\", complex=True, commutative = True)\n",
    "E2E2 = Symbol(\"E2E2'\", real=True, commutative = True)\n",
    "\n",
    "ASM = Matrix(\n",
    "    [\n",
    "        [B1B1,B1B2,B1B3,B1E1,B1E2],\n",
    "        [B2B1,B2B2,B2B3,B2E1,B2E2],\n",
    "        [B3B1,B3B2,B3B3,B3E1,B3E2],\n",
    "        [E1B1,E1B2,E1B3,E1E1,E1E2],\n",
    "        [E2B1,E2B2,E2B3,E2E1,E2E2]\n",
    "    ])\n",
    "\n",
    "ASM"
   ]
  },
  {
   "cell_type": "code",
   "execution_count": 4,
   "metadata": {},
   "outputs": [
    {
     "data": {
      "text/latex": [
       "$\\displaystyle \\left[\\begin{matrix}C_{11} & C_{12} & C_{13} & 0 & 0\\\\C_{21} & C_{22} & C_{23} & 0 & 0\\\\C_{31} & C_{32} & C_{33} & 0 & 0\\\\0 & 0 & 0 & C_{44} & C_{45}\\\\0 & 0 & 0 & C_{54} & C_{55}\\end{matrix}\\right]$"
      ],
      "text/plain": [
       "Matrix([\n",
       "[C11, C12, C13,   0,   0],\n",
       "[C21, C22, C23,   0,   0],\n",
       "[C31, C32, C33,   0,   0],\n",
       "[  0,   0,   0, C44, C45],\n",
       "[  0,   0,   0, C54, C55]])"
      ]
     },
     "execution_count": 4,
     "metadata": {},
     "output_type": "execute_result"
    }
   ],
   "source": [
    "CAL = Matrix([\n",
    "    [Symbol(\"C11\", complex=True, commutative = True), Symbol(\"C12\", complex=True, commutative = True), Symbol(\"C13\", complex=True, commutative = True), 0, 0],\n",
    "    [Symbol(\"C21\", complex=True, commutative = True), Symbol(\"C22\", complex=True, commutative = True), Symbol(\"C23\", complex=True, commutative = True), 0, 0],\n",
    "    [Symbol(\"C31\", complex=True, commutative = True), Symbol(\"C32\", complex=True, commutative = True), Symbol(\"C33\", complex=True, commutative = True), 0, 0],\n",
    "    [0, 0, 0, Symbol(\"C44\", complex=True, commutative = True), Symbol(\"C45\", complex=True, commutative = True)],\n",
    "    [0, 0, 0, Symbol(\"C54\", complex=True, commutative = True), Symbol(\"C55\", complex=True, commutative = True)]\n",
    "])\n",
    "CAL"
   ]
  },
  {
   "cell_type": "code",
   "execution_count": 5,
   "metadata": {},
   "outputs": [
    {
     "data": {
      "text/plain": [
       "True"
      ]
     },
     "execution_count": 5,
     "metadata": {},
     "output_type": "execute_result"
    }
   ],
   "source": [
    "CAL[0,3]==0"
   ]
  },
  {
   "cell_type": "code",
   "execution_count": 6,
   "metadata": {},
   "outputs": [],
   "source": [
    "R = CAL * M * CAL.transpose().conjugate()"
   ]
  },
  {
   "cell_type": "code",
   "execution_count": 7,
   "metadata": {},
   "outputs": [
    {
     "data": {
      "text/latex": [
       "$\\displaystyle \\left(B_{1} C_{11} \\overline{B_{1}} + B_{2} C_{12} \\overline{B_{1}} + B_{3} C_{13} \\overline{B_{1}}\\right) \\overline{C_{11}} + \\left(B_{1} C_{11} \\overline{B_{2}} + B_{2} C_{12} \\overline{B_{2}} + B_{3} C_{13} \\overline{B_{2}}\\right) \\overline{C_{12}} + \\left(B_{1} C_{11} \\overline{B_{3}} + B_{2} C_{12} \\overline{B_{3}} + B_{3} C_{13} \\overline{B_{3}}\\right) \\overline{C_{13}}$"
      ],
      "text/plain": [
       "(B1*C11*conjugate(B1) + B2*C12*conjugate(B1) + B3*C13*conjugate(B1))*conjugate(C11) + (B1*C11*conjugate(B2) + B2*C12*conjugate(B2) + B3*C13*conjugate(B2))*conjugate(C12) + (B1*C11*conjugate(B3) + B2*C12*conjugate(B3) + B3*C13*conjugate(B3))*conjugate(C13)"
      ]
     },
     "execution_count": 7,
     "metadata": {},
     "output_type": "execute_result"
    }
   ],
   "source": [
    "R[0,0]"
   ]
  },
  {
   "cell_type": "code",
   "execution_count": 8,
   "metadata": {},
   "outputs": [
    {
     "data": {
      "text/latex": [
       "$\\displaystyle - \\left(\\operatorname{re}{\\left(C_{11}\\right)} \\left|{B_{1}}\\right|^{2} + \\operatorname{re}{\\left(B_{2} C_{12} \\overline{B_{1}}\\right)} + \\operatorname{re}{\\left(B_{3} C_{13} \\overline{B_{1}}\\right)}\\right) \\operatorname{im}{\\left(C_{11}\\right)} - \\left(\\operatorname{re}{\\left(C_{12}\\right)} \\left|{B_{2}}\\right|^{2} + \\operatorname{re}{\\left(B_{1} C_{11} \\overline{B_{2}}\\right)} + \\operatorname{re}{\\left(B_{3} C_{13} \\overline{B_{2}}\\right)}\\right) \\operatorname{im}{\\left(C_{12}\\right)} - \\left(\\operatorname{re}{\\left(C_{13}\\right)} \\left|{B_{3}}\\right|^{2} + \\operatorname{re}{\\left(B_{1} C_{11} \\overline{B_{3}}\\right)} + \\operatorname{re}{\\left(B_{2} C_{12} \\overline{B_{3}}\\right)}\\right) \\operatorname{im}{\\left(C_{13}\\right)} + \\left(\\operatorname{im}{\\left(C_{11}\\right)} \\left|{B_{1}}\\right|^{2} + \\operatorname{im}{\\left(B_{2} C_{12} \\overline{B_{1}}\\right)} + \\operatorname{im}{\\left(B_{3} C_{13} \\overline{B_{1}}\\right)}\\right) \\operatorname{re}{\\left(C_{11}\\right)} + \\left(\\operatorname{im}{\\left(C_{12}\\right)} \\left|{B_{2}}\\right|^{2} + \\operatorname{im}{\\left(B_{1} C_{11} \\overline{B_{2}}\\right)} + \\operatorname{im}{\\left(B_{3} C_{13} \\overline{B_{2}}\\right)}\\right) \\operatorname{re}{\\left(C_{12}\\right)} + \\left(\\operatorname{im}{\\left(C_{13}\\right)} \\left|{B_{3}}\\right|^{2} + \\operatorname{im}{\\left(B_{1} C_{11} \\overline{B_{3}}\\right)} + \\operatorname{im}{\\left(B_{2} C_{12} \\overline{B_{3}}\\right)}\\right) \\operatorname{re}{\\left(C_{13}\\right)}$"
      ],
      "text/plain": [
       "-(re(C11)*Abs(B1)**2 + re(B2*C12*conjugate(B1)) + re(B3*C13*conjugate(B1)))*im(C11) - (re(C12)*Abs(B2)**2 + re(B1*C11*conjugate(B2)) + re(B3*C13*conjugate(B2)))*im(C12) - (re(C13)*Abs(B3)**2 + re(B1*C11*conjugate(B3)) + re(B2*C12*conjugate(B3)))*im(C13) + (im(C11)*Abs(B1)**2 + im(B2*C12*conjugate(B1)) + im(B3*C13*conjugate(B1)))*re(C11) + (im(C12)*Abs(B2)**2 + im(B1*C11*conjugate(B2)) + im(B3*C13*conjugate(B2)))*re(C12) + (im(C13)*Abs(B3)**2 + im(B1*C11*conjugate(B3)) + im(B2*C12*conjugate(B3)))*re(C13)"
      ]
     },
     "execution_count": 8,
     "metadata": {},
     "output_type": "execute_result"
    }
   ],
   "source": [
    "sympy.im(R[0,0])"
   ]
  },
  {
   "cell_type": "code",
   "execution_count": 9,
   "metadata": {},
   "outputs": [
    {
     "data": {
      "text/latex": [
       "$\\displaystyle 0$"
      ],
      "text/plain": [
       "0"
      ]
     },
     "execution_count": 9,
     "metadata": {},
     "output_type": "execute_result"
    }
   ],
   "source": [
    "sympy.simplify(sympy.im(sympy.expand_complex(R[0,0])))"
   ]
  },
  {
   "cell_type": "code",
   "execution_count": 10,
   "metadata": {},
   "outputs": [
    {
     "data": {
      "text/latex": [
       "$\\displaystyle B1B1'$"
      ],
      "text/plain": [
       "B1B1'"
      ]
     },
     "execution_count": 10,
     "metadata": {},
     "output_type": "execute_result"
    }
   ],
   "source": [
    "ASM[0,0]"
   ]
  },
  {
   "cell_type": "code",
   "execution_count": 11,
   "metadata": {
    "scrolled": false
   },
   "outputs": [],
   "source": [
    "import re\n",
    "\n",
    "input_matrix = CplxTriangularMatrix(\"input_asm\",*ASM.shape)\n",
    "calibrated_matrix = CplxTriangularMatrix(\"output_asm\",*ASM.shape)\n",
    "\n",
    "replace_rules = {}\n",
    "for line in range(ASM.shape[0]):\n",
    "    for column in range(ASM.shape[1]):\n",
    "        if line == column:\n",
    "            replace_rules[f\"{ASM[line, column]}\"] = input_matrix.ccode_item_re(line, column)\n",
    "        else:\n",
    "            replace_rules[f\"re({ASM[line, column]})\"] = input_matrix.ccode_item_re(line, column)\n",
    "            replace_rules[f\"im({ASM[line, column]})\"] = input_matrix.ccode_item_im(line, column)\n",
    "            \n",
    "IM = Matrix([[Symbol(f\"IM{line}{column}\", complex=True, commutative = True) for column in range(5)] for line in range(5)])\n",
    "\n",
    "intermediary_matrix = CplxMatrix(\"intermediary\",*ASM.shape)            \n",
    "for line in range(IM.shape[0]):\n",
    "    for column in range(IM.shape[1]):\n",
    "        replace_rules[f\"re({IM[line, column]})\"] = intermediary_matrix.ccode_item_re(line, column)\n",
    "        replace_rules[f\"im({IM[line, column]})\"] = intermediary_matrix.ccode_item_im(line, column)\n",
    "        \n",
    "        \n",
    "BCAL_matrix = CplxMatrix(\"mag_calibration_matrices\",3,3)\n",
    "ECAL_matrix = CplxMatrix(\"elec_calibration_matrices\",2,2)\n",
    "for line in range(CAL.shape[0]):\n",
    "    for column in range(CAL.shape[1]):\n",
    "        if CAL[line, column] != 0:\n",
    "            if column < 3:\n",
    "                replace_rules[f\"re({CAL[line, column]})\"] = BCAL_matrix.ccode_item_re(line, column)\n",
    "                replace_rules[f\"im({CAL[line, column]})\"] = BCAL_matrix.ccode_item_im(line, column)\n",
    "            else:\n",
    "                replace_rules[f\"re({CAL[line, column]})\"] = ECAL_matrix.ccode_item_re(line-3, column-3)\n",
    "                replace_rules[f\"im({CAL[line, column]})\"] = ECAL_matrix.ccode_item_im(line-3, column-3)\n",
    "\n",
    "replace_rules = dict((re.escape(k), v) for k, v in replace_rules.items()) \n",
    "pattern = re.compile(\"|\".join(replace_rules.keys()))\n"
   ]
  },
  {
   "cell_type": "code",
   "execution_count": 12,
   "metadata": {},
   "outputs": [],
   "source": [
    "II = CAL * ASM\n",
    "Calibrated_Matrix = IM * CAL.transpose().conjugate()"
   ]
  },
  {
   "cell_type": "code",
   "execution_count": 13,
   "metadata": {},
   "outputs": [],
   "source": [
    "\n",
    "def simplify_im(expr):\n",
    "    return sympy.simplify(sympy.im(sympy.expand_complex(expr)))\n",
    "\n",
    "def simplify_re(expr):\n",
    "    return sympy.simplify(sympy.re(sympy.expand_complex(expr)))"
   ]
  },
  {
   "cell_type": "code",
   "execution_count": 14,
   "metadata": {},
   "outputs": [],
   "source": [
    "code = ''\n",
    "\n",
    "for line in range(II.shape[0]):\n",
    "    for column in range(II.shape[1]):\n",
    "        code += f\"{intermediary_matrix.ccode_item_re(line, column)} = \" + pattern.sub(lambda m: replace_rules[re.escape(m.group(0))], \n",
    "                           str(simplify_re(II[line,column]))) + \";\\n\"\n",
    "        \n",
    "        code += f\"{intermediary_matrix.ccode_item_im(line, column)} = \" + pattern.sub(lambda m: replace_rules[re.escape(m.group(0))], \n",
    "                           str(simplify_im(II[line,column]))) + \";\\n\"\n",
    "        \n",
    "for line in range(Calibrated_Matrix.shape[0]):\n",
    "    for column in range(Calibrated_Matrix.shape[1]):\n",
    "        if line <= column:\n",
    "            code += f\"{calibrated_matrix.ccode_item_re(line, column)} = \" + pattern.sub(lambda m: replace_rules[re.escape(m.group(0))], \n",
    "                               str(simplify_re(Calibrated_Matrix[line,column]))) + \";\\n\"\n",
    "        if column > line:\n",
    "            code += f\"{calibrated_matrix.ccode_item_im(line, column)} = \" + pattern.sub(lambda m: replace_rules[re.escape(m.group(0))], \n",
    "                               str(simplify_im(Calibrated_Matrix[line,column]))) + \";\\n\"\n",
    "            \n",
    "        "
   ]
  },
  {
   "cell_type": "code",
   "execution_count": 15,
   "metadata": {
    "scrolled": false
   },
   "outputs": [
    {
     "name": "stdout",
     "output_type": "stream",
     "text": [
      "intermediary[0] = input_asm[0]*mag_calibration_matrices[0] + input_asm[1]*mag_calibration_matrices[2] + input_asm[3]*mag_calibration_matrices[4] - (-input_asm[2])*mag_calibration_matrices[3] - (-input_asm[4])*mag_calibration_matrices[5];\n",
      "intermediary[1] = input_asm[0]*mag_calibration_matrices[1] + input_asm[1]*mag_calibration_matrices[3] + input_asm[3]*mag_calibration_matrices[5] + mag_calibration_matrices[2]*(-input_asm[2]) + mag_calibration_matrices[4]*(-input_asm[4]);\n",
      "intermediary[2] = input_asm[9]*mag_calibration_matrices[2] + input_asm[1]*mag_calibration_matrices[0] + input_asm[10]*mag_calibration_matrices[4] - input_asm[2]*mag_calibration_matrices[1] - (-input_asm[11])*mag_calibration_matrices[5];\n",
      "intermediary[3] = input_asm[9]*mag_calibration_matrices[3] + input_asm[1]*mag_calibration_matrices[1] + input_asm[10]*mag_calibration_matrices[5] + mag_calibration_matrices[0]*input_asm[2] + mag_calibration_matrices[4]*(-input_asm[11]);\n",
      "intermediary[4] = input_asm[16]*mag_calibration_matrices[4] + input_asm[3]*mag_calibration_matrices[0] + input_asm[10]*mag_calibration_matrices[2] - input_asm[4]*mag_calibration_matrices[1] - input_asm[11]*mag_calibration_matrices[3];\n",
      "intermediary[5] = input_asm[16]*mag_calibration_matrices[5] + input_asm[3]*mag_calibration_matrices[1] + input_asm[10]*mag_calibration_matrices[3] + mag_calibration_matrices[0]*input_asm[4] + mag_calibration_matrices[2]*input_asm[11];\n",
      "intermediary[6] = input_asm[5]*mag_calibration_matrices[0] + input_asm[12]*mag_calibration_matrices[2] + input_asm[17]*mag_calibration_matrices[4] - input_asm[6]*mag_calibration_matrices[1] - input_asm[13]*mag_calibration_matrices[3] - input_asm[18]*mag_calibration_matrices[5];\n",
      "intermediary[7] = input_asm[5]*mag_calibration_matrices[1] + input_asm[12]*mag_calibration_matrices[3] + input_asm[17]*mag_calibration_matrices[5] + mag_calibration_matrices[0]*input_asm[6] + mag_calibration_matrices[2]*input_asm[13] + mag_calibration_matrices[4]*input_asm[18];\n",
      "intermediary[8] = input_asm[7]*mag_calibration_matrices[0] + input_asm[14]*mag_calibration_matrices[2] + input_asm[19]*mag_calibration_matrices[4] - input_asm[8]*mag_calibration_matrices[1] - input_asm[15]*mag_calibration_matrices[3] - input_asm[20]*mag_calibration_matrices[5];\n",
      "intermediary[9] = input_asm[7]*mag_calibration_matrices[1] + input_asm[14]*mag_calibration_matrices[3] + input_asm[19]*mag_calibration_matrices[5] + mag_calibration_matrices[0]*input_asm[8] + mag_calibration_matrices[2]*input_asm[15] + mag_calibration_matrices[4]*input_asm[20];\n",
      "intermediary[10] = input_asm[0]*mag_calibration_matrices[6] + input_asm[1]*mag_calibration_matrices[8] + input_asm[3]*mag_calibration_matrices[10] - (-input_asm[2])*mag_calibration_matrices[9] - (-input_asm[4])*mag_calibration_matrices[11];\n",
      "intermediary[11] = input_asm[0]*mag_calibration_matrices[7] + input_asm[1]*mag_calibration_matrices[9] + input_asm[3]*mag_calibration_matrices[11] + mag_calibration_matrices[8]*(-input_asm[2]) + mag_calibration_matrices[10]*(-input_asm[4]);\n",
      "intermediary[12] = input_asm[9]*mag_calibration_matrices[8] + input_asm[1]*mag_calibration_matrices[6] + input_asm[10]*mag_calibration_matrices[10] - input_asm[2]*mag_calibration_matrices[7] - (-input_asm[11])*mag_calibration_matrices[11];\n",
      "intermediary[13] = input_asm[9]*mag_calibration_matrices[9] + input_asm[1]*mag_calibration_matrices[7] + input_asm[10]*mag_calibration_matrices[11] + mag_calibration_matrices[6]*input_asm[2] + mag_calibration_matrices[10]*(-input_asm[11]);\n",
      "intermediary[14] = input_asm[16]*mag_calibration_matrices[10] + input_asm[3]*mag_calibration_matrices[6] + input_asm[10]*mag_calibration_matrices[8] - input_asm[4]*mag_calibration_matrices[7] - input_asm[11]*mag_calibration_matrices[9];\n",
      "intermediary[15] = input_asm[16]*mag_calibration_matrices[11] + input_asm[3]*mag_calibration_matrices[7] + input_asm[10]*mag_calibration_matrices[9] + mag_calibration_matrices[6]*input_asm[4] + mag_calibration_matrices[8]*input_asm[11];\n",
      "intermediary[16] = input_asm[5]*mag_calibration_matrices[6] + input_asm[12]*mag_calibration_matrices[8] + input_asm[17]*mag_calibration_matrices[10] - input_asm[6]*mag_calibration_matrices[7] - input_asm[13]*mag_calibration_matrices[9] - input_asm[18]*mag_calibration_matrices[11];\n",
      "intermediary[17] = input_asm[5]*mag_calibration_matrices[7] + input_asm[12]*mag_calibration_matrices[9] + input_asm[17]*mag_calibration_matrices[11] + mag_calibration_matrices[6]*input_asm[6] + mag_calibration_matrices[8]*input_asm[13] + mag_calibration_matrices[10]*input_asm[18];\n",
      "intermediary[18] = input_asm[7]*mag_calibration_matrices[6] + input_asm[14]*mag_calibration_matrices[8] + input_asm[19]*mag_calibration_matrices[10] - input_asm[8]*mag_calibration_matrices[7] - input_asm[15]*mag_calibration_matrices[9] - input_asm[20]*mag_calibration_matrices[11];\n",
      "intermediary[19] = input_asm[7]*mag_calibration_matrices[7] + input_asm[14]*mag_calibration_matrices[9] + input_asm[19]*mag_calibration_matrices[11] + mag_calibration_matrices[6]*input_asm[8] + mag_calibration_matrices[8]*input_asm[15] + mag_calibration_matrices[10]*input_asm[20];\n",
      "intermediary[20] = input_asm[0]*mag_calibration_matrices[12] + input_asm[1]*mag_calibration_matrices[14] + input_asm[3]*mag_calibration_matrices[16] - (-input_asm[2])*mag_calibration_matrices[15] - (-input_asm[4])*mag_calibration_matrices[17];\n",
      "intermediary[21] = input_asm[0]*mag_calibration_matrices[13] + input_asm[1]*mag_calibration_matrices[15] + input_asm[3]*mag_calibration_matrices[17] + mag_calibration_matrices[14]*(-input_asm[2]) + mag_calibration_matrices[16]*(-input_asm[4]);\n",
      "intermediary[22] = input_asm[9]*mag_calibration_matrices[14] + input_asm[1]*mag_calibration_matrices[12] + input_asm[10]*mag_calibration_matrices[16] - input_asm[2]*mag_calibration_matrices[13] - (-input_asm[11])*mag_calibration_matrices[17];\n",
      "intermediary[23] = input_asm[9]*mag_calibration_matrices[15] + input_asm[1]*mag_calibration_matrices[13] + input_asm[10]*mag_calibration_matrices[17] + mag_calibration_matrices[12]*input_asm[2] + mag_calibration_matrices[16]*(-input_asm[11]);\n",
      "intermediary[24] = input_asm[16]*mag_calibration_matrices[16] + input_asm[3]*mag_calibration_matrices[12] + input_asm[10]*mag_calibration_matrices[14] - input_asm[4]*mag_calibration_matrices[13] - input_asm[11]*mag_calibration_matrices[15];\n",
      "intermediary[25] = input_asm[16]*mag_calibration_matrices[17] + input_asm[3]*mag_calibration_matrices[13] + input_asm[10]*mag_calibration_matrices[15] + mag_calibration_matrices[12]*input_asm[4] + mag_calibration_matrices[14]*input_asm[11];\n",
      "intermediary[26] = input_asm[5]*mag_calibration_matrices[12] + input_asm[12]*mag_calibration_matrices[14] + input_asm[17]*mag_calibration_matrices[16] - input_asm[6]*mag_calibration_matrices[13] - input_asm[13]*mag_calibration_matrices[15] - input_asm[18]*mag_calibration_matrices[17];\n",
      "intermediary[27] = input_asm[5]*mag_calibration_matrices[13] + input_asm[12]*mag_calibration_matrices[15] + input_asm[17]*mag_calibration_matrices[17] + mag_calibration_matrices[12]*input_asm[6] + mag_calibration_matrices[14]*input_asm[13] + mag_calibration_matrices[16]*input_asm[18];\n",
      "intermediary[28] = input_asm[7]*mag_calibration_matrices[12] + input_asm[14]*mag_calibration_matrices[14] + input_asm[19]*mag_calibration_matrices[16] - input_asm[8]*mag_calibration_matrices[13] - input_asm[15]*mag_calibration_matrices[15] - input_asm[20]*mag_calibration_matrices[17];\n",
      "intermediary[29] = input_asm[7]*mag_calibration_matrices[13] + input_asm[14]*mag_calibration_matrices[15] + input_asm[19]*mag_calibration_matrices[17] + mag_calibration_matrices[12]*input_asm[8] + mag_calibration_matrices[14]*input_asm[15] + mag_calibration_matrices[16]*input_asm[20];\n",
      "intermediary[30] = elec_calibration_matrices[0]*input_asm[5] + elec_calibration_matrices[2]*input_asm[7] - elec_calibration_matrices[1]*(-input_asm[6]) - elec_calibration_matrices[3]*(-input_asm[8]);\n",
      "intermediary[31] = elec_calibration_matrices[0]*(-input_asm[6]) + elec_calibration_matrices[2]*(-input_asm[8]) + input_asm[5]*elec_calibration_matrices[1] + input_asm[7]*elec_calibration_matrices[3];\n",
      "intermediary[32] = elec_calibration_matrices[0]*input_asm[12] + elec_calibration_matrices[2]*input_asm[14] - elec_calibration_matrices[1]*(-input_asm[13]) - elec_calibration_matrices[3]*(-input_asm[15]);\n",
      "intermediary[33] = elec_calibration_matrices[0]*(-input_asm[13]) + elec_calibration_matrices[2]*(-input_asm[15]) + input_asm[12]*elec_calibration_matrices[1] + input_asm[14]*elec_calibration_matrices[3];\n",
      "intermediary[34] = elec_calibration_matrices[0]*input_asm[17] + elec_calibration_matrices[2]*input_asm[19] - elec_calibration_matrices[1]*(-input_asm[18]) - elec_calibration_matrices[3]*(-input_asm[20]);\n",
      "intermediary[35] = elec_calibration_matrices[0]*(-input_asm[18]) + elec_calibration_matrices[2]*(-input_asm[20]) + input_asm[17]*elec_calibration_matrices[1] + input_asm[19]*elec_calibration_matrices[3];\n",
      "intermediary[36] = input_asm[21]*elec_calibration_matrices[0] + elec_calibration_matrices[2]*input_asm[22] - elec_calibration_matrices[3]*(-input_asm[23]);\n",
      "intermediary[37] = input_asm[21]*elec_calibration_matrices[1] + elec_calibration_matrices[2]*(-input_asm[23]) + input_asm[22]*elec_calibration_matrices[3];\n",
      "intermediary[38] = input_asm[24]*elec_calibration_matrices[2] + elec_calibration_matrices[0]*input_asm[22] - elec_calibration_matrices[1]*input_asm[23];\n",
      "intermediary[39] = input_asm[24]*elec_calibration_matrices[3] + elec_calibration_matrices[0]*input_asm[23] + input_asm[22]*elec_calibration_matrices[1];\n",
      "intermediary[40] = elec_calibration_matrices[4]*input_asm[5] + elec_calibration_matrices[6]*input_asm[7] - elec_calibration_matrices[5]*(-input_asm[6]) - elec_calibration_matrices[7]*(-input_asm[8]);\n",
      "intermediary[41] = elec_calibration_matrices[4]*(-input_asm[6]) + elec_calibration_matrices[6]*(-input_asm[8]) + input_asm[5]*elec_calibration_matrices[5] + input_asm[7]*elec_calibration_matrices[7];\n",
      "intermediary[42] = elec_calibration_matrices[4]*input_asm[12] + elec_calibration_matrices[6]*input_asm[14] - elec_calibration_matrices[5]*(-input_asm[13]) - elec_calibration_matrices[7]*(-input_asm[15]);\n",
      "intermediary[43] = elec_calibration_matrices[4]*(-input_asm[13]) + elec_calibration_matrices[6]*(-input_asm[15]) + input_asm[12]*elec_calibration_matrices[5] + input_asm[14]*elec_calibration_matrices[7];\n",
      "intermediary[44] = elec_calibration_matrices[4]*input_asm[17] + elec_calibration_matrices[6]*input_asm[19] - elec_calibration_matrices[5]*(-input_asm[18]) - elec_calibration_matrices[7]*(-input_asm[20]);\n",
      "intermediary[45] = elec_calibration_matrices[4]*(-input_asm[18]) + elec_calibration_matrices[6]*(-input_asm[20]) + input_asm[17]*elec_calibration_matrices[5] + input_asm[19]*elec_calibration_matrices[7];\n",
      "intermediary[46] = input_asm[21]*elec_calibration_matrices[4] + elec_calibration_matrices[6]*input_asm[22] - elec_calibration_matrices[7]*(-input_asm[23]);\n",
      "intermediary[47] = input_asm[21]*elec_calibration_matrices[5] + elec_calibration_matrices[6]*(-input_asm[23]) + input_asm[22]*elec_calibration_matrices[7];\n",
      "intermediary[48] = input_asm[24]*elec_calibration_matrices[6] + elec_calibration_matrices[4]*input_asm[22] - elec_calibration_matrices[5]*input_asm[23];\n",
      "intermediary[49] = input_asm[24]*elec_calibration_matrices[7] + elec_calibration_matrices[4]*input_asm[23] + input_asm[22]*elec_calibration_matrices[5];\n",
      "output_asm[0] = mag_calibration_matrices[0]*intermediary[0] + mag_calibration_matrices[2]*intermediary[2] + mag_calibration_matrices[4]*intermediary[4] + mag_calibration_matrices[1]*intermediary[1] + mag_calibration_matrices[3]*intermediary[3] + mag_calibration_matrices[5]*intermediary[5];\n",
      "output_asm[1] = mag_calibration_matrices[6]*intermediary[0] + mag_calibration_matrices[8]*intermediary[2] + mag_calibration_matrices[10]*intermediary[4] + mag_calibration_matrices[7]*intermediary[1] + mag_calibration_matrices[9]*intermediary[3] + mag_calibration_matrices[11]*intermediary[5];\n",
      "output_asm[2] = mag_calibration_matrices[6]*intermediary[1] + mag_calibration_matrices[8]*intermediary[3] + mag_calibration_matrices[10]*intermediary[5] - intermediary[0]*mag_calibration_matrices[7] - intermediary[2]*mag_calibration_matrices[9] - intermediary[4]*mag_calibration_matrices[11];\n",
      "output_asm[3] = mag_calibration_matrices[12]*intermediary[0] + mag_calibration_matrices[14]*intermediary[2] + mag_calibration_matrices[16]*intermediary[4] + mag_calibration_matrices[13]*intermediary[1] + mag_calibration_matrices[15]*intermediary[3] + mag_calibration_matrices[17]*intermediary[5];\n",
      "output_asm[4] = mag_calibration_matrices[12]*intermediary[1] + mag_calibration_matrices[14]*intermediary[3] + mag_calibration_matrices[16]*intermediary[5] - intermediary[0]*mag_calibration_matrices[13] - intermediary[2]*mag_calibration_matrices[15] - intermediary[4]*mag_calibration_matrices[17];\n",
      "output_asm[5] = elec_calibration_matrices[0]*intermediary[6] + elec_calibration_matrices[2]*intermediary[8] + elec_calibration_matrices[1]*intermediary[7] + elec_calibration_matrices[3]*intermediary[9];\n",
      "output_asm[6] = elec_calibration_matrices[0]*intermediary[7] + elec_calibration_matrices[2]*intermediary[9] - intermediary[6]*elec_calibration_matrices[1] - intermediary[8]*elec_calibration_matrices[3];\n",
      "output_asm[7] = elec_calibration_matrices[4]*intermediary[6] + elec_calibration_matrices[6]*intermediary[8] + elec_calibration_matrices[5]*intermediary[7] + elec_calibration_matrices[7]*intermediary[9];\n",
      "output_asm[8] = elec_calibration_matrices[4]*intermediary[7] + elec_calibration_matrices[6]*intermediary[9] - intermediary[6]*elec_calibration_matrices[5] - intermediary[8]*elec_calibration_matrices[7];\n",
      "output_asm[9] = mag_calibration_matrices[6]*intermediary[10] + mag_calibration_matrices[8]*intermediary[12] + mag_calibration_matrices[10]*intermediary[14] + mag_calibration_matrices[7]*intermediary[11] + mag_calibration_matrices[9]*intermediary[13] + mag_calibration_matrices[11]*intermediary[15];\n",
      "output_asm[10] = mag_calibration_matrices[12]*intermediary[10] + mag_calibration_matrices[14]*intermediary[12] + mag_calibration_matrices[16]*intermediary[14] + mag_calibration_matrices[13]*intermediary[11] + mag_calibration_matrices[15]*intermediary[13] + mag_calibration_matrices[17]*intermediary[15];\n",
      "output_asm[11] = mag_calibration_matrices[12]*intermediary[11] + mag_calibration_matrices[14]*intermediary[13] + mag_calibration_matrices[16]*intermediary[15] - intermediary[10]*mag_calibration_matrices[13] - intermediary[12]*mag_calibration_matrices[15] - intermediary[14]*mag_calibration_matrices[17];\n",
      "output_asm[12] = elec_calibration_matrices[0]*intermediary[16] + elec_calibration_matrices[2]*intermediary[18] + elec_calibration_matrices[1]*intermediary[17] + elec_calibration_matrices[3]*intermediary[19];\n",
      "output_asm[13] = elec_calibration_matrices[0]*intermediary[17] + elec_calibration_matrices[2]*intermediary[19] - intermediary[16]*elec_calibration_matrices[1] - intermediary[18]*elec_calibration_matrices[3];\n",
      "output_asm[14] = elec_calibration_matrices[4]*intermediary[16] + elec_calibration_matrices[6]*intermediary[18] + elec_calibration_matrices[5]*intermediary[17] + elec_calibration_matrices[7]*intermediary[19];\n",
      "output_asm[15] = elec_calibration_matrices[4]*intermediary[17] + elec_calibration_matrices[6]*intermediary[19] - intermediary[16]*elec_calibration_matrices[5] - intermediary[18]*elec_calibration_matrices[7];\n",
      "output_asm[16] = mag_calibration_matrices[12]*intermediary[20] + mag_calibration_matrices[14]*intermediary[22] + mag_calibration_matrices[16]*intermediary[24] + mag_calibration_matrices[13]*intermediary[21] + mag_calibration_matrices[15]*intermediary[23] + mag_calibration_matrices[17]*intermediary[25];\n",
      "output_asm[17] = elec_calibration_matrices[0]*intermediary[26] + elec_calibration_matrices[2]*intermediary[28] + elec_calibration_matrices[1]*intermediary[27] + elec_calibration_matrices[3]*intermediary[29];\n",
      "output_asm[18] = elec_calibration_matrices[0]*intermediary[27] + elec_calibration_matrices[2]*intermediary[29] - intermediary[26]*elec_calibration_matrices[1] - intermediary[28]*elec_calibration_matrices[3];\n",
      "output_asm[19] = elec_calibration_matrices[4]*intermediary[26] + elec_calibration_matrices[6]*intermediary[28] + elec_calibration_matrices[5]*intermediary[27] + elec_calibration_matrices[7]*intermediary[29];\n",
      "output_asm[20] = elec_calibration_matrices[4]*intermediary[27] + elec_calibration_matrices[6]*intermediary[29] - intermediary[26]*elec_calibration_matrices[5] - intermediary[28]*elec_calibration_matrices[7];\n",
      "output_asm[21] = elec_calibration_matrices[0]*intermediary[36] + elec_calibration_matrices[2]*intermediary[38] + elec_calibration_matrices[1]*intermediary[37] + elec_calibration_matrices[3]*intermediary[39];\n",
      "output_asm[22] = elec_calibration_matrices[4]*intermediary[36] + elec_calibration_matrices[6]*intermediary[38] + elec_calibration_matrices[5]*intermediary[37] + elec_calibration_matrices[7]*intermediary[39];\n",
      "output_asm[23] = elec_calibration_matrices[4]*intermediary[37] + elec_calibration_matrices[6]*intermediary[39] - intermediary[36]*elec_calibration_matrices[5] - intermediary[38]*elec_calibration_matrices[7];\n",
      "output_asm[24] = elec_calibration_matrices[4]*intermediary[46] + elec_calibration_matrices[6]*intermediary[48] + elec_calibration_matrices[5]*intermediary[47] + elec_calibration_matrices[7]*intermediary[49];\n",
      "\n"
     ]
    }
   ],
   "source": [
    "print(code)"
   ]
  }
 ],
 "metadata": {
  "kernelspec": {
   "display_name": "Python 3",
   "language": "python",
   "name": "python3"
  },
  "language_info": {
   "codemirror_mode": {
    "name": "ipython",
    "version": 3
   },
   "file_extension": ".py",
   "mimetype": "text/x-python",
   "name": "python",
   "nbconvert_exporter": "python",
   "pygments_lexer": "ipython3",
   "version": "3.9.6"
  }
 },
 "nbformat": 4,
 "nbformat_minor": 4
}
