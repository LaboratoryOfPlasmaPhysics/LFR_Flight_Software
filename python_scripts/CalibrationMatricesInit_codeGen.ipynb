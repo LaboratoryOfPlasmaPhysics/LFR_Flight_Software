{
 "cells": [
  {
   "cell_type": "code",
   "execution_count": 1,
   "metadata": {},
   "outputs": [],
   "source": [
    "import jsonpickle\n",
    "\n",
    "F,B,E=jsonpickle.decode(open('../ASM_calibration_default-full-tables_FSW_R3.3_AC_DIFF_G5_or_DC_DIFF_G1_R=0-0-0_kappa=1e-04_2021-09-08.json').read())\n",
    "\n",
    "START_INDEXES=[16, 5, 6]\n",
    "#+1 on sizes for interpolation with TC LOAD KCOEFS\n",
    "SIZES=[88+1, 104+1, 96+1]\n",
    "\n",
    "decl = \"\"\n",
    "for prefix,matrix in ((\"float mag_calibration_matrices_f{freq_index}[{size} * NB_ELEMENTS_MAG_CAL_MATRIX * FLOATS_PER_COMPLEX] = {{\",B),\n",
    "                      (\"float elec_calibration_matrices_f{freq_index}[{size} * NB_ELEMENTS_ELEC_CAL_MATRIX * FLOATS_PER_COMPLEX] = {{\",E)):\n",
    "    for freq_index in range(3):\n",
    "        sz=SIZES[freq_index]\n",
    "        start=START_INDEXES[freq_index]\n",
    "        decl += prefix.format(freq_index=freq_index, size=sz) +\"\\n\"\n",
    "        decl += ', '.join(map(lambda item: f\"{item.real}f, {item.imag}f\", matrix[freq_index][start:start+sz].flatten()))\n",
    "        decl += \"};\\n\\n\"\n",
    "\n",
    "code = f\"\"\"\n",
    "#include \"processing/calibration_matrices.h\"\n",
    "#include \"lfr_common_headers/fsw_params_processing.h\"\n",
    "\n",
    "{decl}\n",
    "\n",
    "\"\"\"\n",
    "with open('../src/processing/calibration_matrices.c', 'w') as src:\n",
    "    src.write(code)"
   ]
  },
  {
   "cell_type": "code",
   "execution_count": 2,
   "metadata": {},
   "outputs": [
    {
     "name": "stdout",
     "output_type": "stream",
     "text": [
      "\n",
      "#include \"processing/calibration_matrices.h\"\n",
      "#include \"lfr_common_headers/fsw_params_processing.h\"\n",
      "\n",
      "float mag_calibration_matrices_f0[89 * NB_ELEMENTS_MAG_CAL_MATRIX * FLOATS_PER_COMPLEX] = {\n",
      "    0.3180653172124821f, 0.34533355304189123f, -0.3390720533129207f, -0.3577615717181845f,\n",
      "    0.24298464922670662f, 0.28443564342586913f, -0.3640000438602313f, -0.40002618004304363f,\n",
      "    0.006095818883180522f, 0.0027480991277206166f, 0.3638669618258464f, 0.3424604116723766f,\n",
      "    -0.2138512274099667f, -0.24896435345863835f, -0.4372949771057437f, -0.4871320985234437f,\n",
      "    -0.18595443849151674f, -0.23094666027887958f, 0.2921212279652906f, 0.36719611463670515f,\n"
     ]
    }
   ],
   "source": [
    "!clang-format --style=file -i ../src/processing/calibration_matrices.c\n",
    "!head ../src/processing/calibration_matrices.c"
   ]
  },
  {
   "cell_type": "code",
   "execution_count": 8,
   "metadata": {},
   "outputs": [],
   "source": [
    "import jsonpickle\n",
    "\n",
    "F,B,E=jsonpickle.decode(open('../ASM_calibration_default-full-tables_FSW_R3.3_AC_DIFF_G5_or_DC_DIFF_G1_R=0-0-0_kappa=1e-04_2021-09-08.json').read())"
   ]
  },
  {
   "cell_type": "code",
   "execution_count": 9,
   "metadata": {},
   "outputs": [
    {
     "data": {
      "text/plain": [
       "array([[ 0.08846061+0.46413811j, -0.10038471-0.48436991j,\n",
       "         0.03327358+0.37728682j],\n",
       "       [-0.09786025-0.53643449j,  0.00423522+0.00458395j,\n",
       "         0.12025745+0.47833933j],\n",
       "       [-0.05058827-0.32936227j, -0.1163266 -0.65067164j,\n",
       "        -0.01683527-0.30264229j]])"
      ]
     },
     "execution_count": 9,
     "metadata": {},
     "output_type": "execute_result"
    }
   ],
   "source": [
    "B[0][16+8]"
   ]
  },
  {
   "cell_type": "code",
   "execution_count": null,
   "metadata": {},
   "outputs": [],
   "source": []
  }
 ],
 "metadata": {
  "kernelspec": {
   "display_name": "Python 3",
   "language": "python",
   "name": "python3"
  },
  "language_info": {
   "codemirror_mode": {
    "name": "ipython",
    "version": 3
   },
   "file_extension": ".py",
   "mimetype": "text/x-python",
   "name": "python",
   "nbconvert_exporter": "python",
   "pygments_lexer": "ipython3",
   "version": "3.10.0"
  }
 },
 "nbformat": 4,
 "nbformat_minor": 4
}
