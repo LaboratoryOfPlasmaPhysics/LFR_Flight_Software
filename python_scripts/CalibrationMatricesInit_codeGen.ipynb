{
 "cells": [
  {
   "cell_type": "code",
   "execution_count": 29,
   "metadata": {},
   "outputs": [],
   "source": [
    "import jsonpickle\n",
    "\n",
    "F,B,E=jsonpickle.decode(open('../ASM_calibration_default-full-tables_FSW_R3.3_AC_DIFF_G5_or_DC_DIFF_G1_R=0-0-0_kappa=1e-04_2021-09-08.json').read())\n",
    "\n",
    "decl = \"\"\n",
    "for prefix,matrix in ((\"float mag_calibration_matrices_f{freq_index}[NB_BINS_PER_SM * NB_ELEMENTS_MAG_CAL_MATRIX * FLOATS_PER_COMPLEX] = {{\",B),\n",
    "                      (\"float elec_calibration_matrices_f{freq_index}[NB_BINS_PER_SM * NB_ELEMENTS_ELEC_CAL_MATRIX * FLOATS_PER_COMPLEX] = {{\",E)):\n",
    "    for freq_index in range(3):\n",
    "        decl += prefix.format(freq_index=freq_index) +\"\\n\"\n",
    "        decl += ', '.join(map(lambda item: f\"{item.real}f, {item.imag}f\", matrix[freq_index].flatten()))\n",
    "        decl += \"};\\n\\n\"\n",
    "\n",
    "code = f\"\"\"\n",
    "#include \"fsw_params_processing.h\"\n",
    "\n",
    "{decl}\n",
    "\n",
    "\"\"\"\n",
    "with open('../src/processing/calibration_matrices.c', 'w') as src:\n",
    "    src.write(code)"
   ]
  },
  {
   "cell_type": "code",
   "execution_count": 30,
   "metadata": {},
   "outputs": [
    {
     "name": "stdout",
     "output_type": "stream",
     "text": [
      "\r\n",
      "#include \"fsw_params_processing.h\"\r\n",
      "\r\n",
      "float mag_calibration_matrices_f0[NB_BINS_PER_SM * NB_ELEMENTS_MAG_CAL_MATRIX * FLOATS_PER_COMPLEX]\r\n",
      "    = { 0.0f, 0.0f, 0.0f, 0.0f, 0.0f, 0.0f, 0.0f, 0.0f, 0.0f, 0.0f, 0.0f, 0.0f, 0.0f, 0.0f, 0.0f,\r\n",
      "          0.0f, 0.0f, 0.0f, 0.0f, 0.0f, 0.0f, 0.0f, 0.0f, 0.0f, 0.0f, 0.0f, 0.0f, 0.0f, 0.0f, 0.0f,\r\n",
      "          0.0f, 0.0f, 0.0f, 0.0f, 0.0f, 0.0f, 0.0f, 0.0f, 0.0f, 0.0f, 0.0f, 0.0f, 0.0f, 0.0f, 0.0f,\r\n",
      "          0.0f, 0.0f, 0.0f, 0.0f, 0.0f, 0.0f, 0.0f, 0.0f, 0.0f, 0.0f, 0.0f, 0.0f, 0.0f, 0.0f, 0.0f,\r\n",
      "          0.0f, 0.0f, 0.0f, 0.0f, 0.0f, 0.0f, 0.0f, 0.0f, 0.0f, 0.0f, 0.0f, 0.0f, 0.0f, 0.0f, 0.0f,\r\n",
      "          0.0f, 0.0f, 0.0f, 0.0f, 0.0f, 0.0f, 0.0f, 0.0f, 0.0f, 0.0f, 0.0f, 0.0f, 0.0f, 0.0f, 0.0f,\r\n"
     ]
    }
   ],
   "source": [
    "!clang-format --style=file -i ../src/processing/calibration_matrices.c\n",
    "!head ../src/processing/calibration_matrices.c"
   ]
  },
  {
   "cell_type": "code",
   "execution_count": null,
   "metadata": {},
   "outputs": [],
   "source": []
  }
 ],
 "metadata": {
  "kernelspec": {
   "display_name": "Python 3",
   "language": "python",
   "name": "python3"
  },
  "language_info": {
   "codemirror_mode": {
    "name": "ipython",
    "version": 3
   },
   "file_extension": ".py",
   "mimetype": "text/x-python",
   "name": "python",
   "nbconvert_exporter": "python",
   "pygments_lexer": "ipython3",
   "version": "3.9.6"
  }
 },
 "nbformat": 4,
 "nbformat_minor": 4
}
